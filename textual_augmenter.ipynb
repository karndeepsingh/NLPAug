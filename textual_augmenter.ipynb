{
  "nbformat": 4,
  "nbformat_minor": 0,
  "metadata": {
    "kernelspec": {
      "display_name": "nlpaug_dev",
      "language": "python",
      "name": "nlpaug_dev"
    },
    "language_info": {
      "codemirror_mode": {
        "name": "ipython",
        "version": 3
      },
      "file_extension": ".py",
      "mimetype": "text/x-python",
      "name": "python",
      "nbconvert_exporter": "python",
      "pygments_lexer": "ipython3",
      "version": "3.8.5"
    },
    "colab": {
      "name": "textual_augmenter.ipynb",
      "provenance": []
    }
  },
  "cells": [
    {
      "cell_type": "markdown",
      "metadata": {
        "id": "8RFrCypT6VfH"
      },
      "source": [
        "## Example of Textual Augmenter Usage<a class=\"anchor\" id=\"home\"></a>:\n",
        "* [Character Augmenter](#chara_aug)\n",
        "    * [OCR](#ocr_aug)\n",
        "    * [Keyboard](#keyboard_aug)\n",
        "    * [Random](#random_aug)\n",
        "* [Word Augmenter](#word_aug)\n",
        "    * [Spelling](#spelling_aug)\n",
        "    * [Word Embeddings](#word_embs_aug)\n",
        "    * [TF-IDF](#tfidf_aug)\n",
        "    * [Contextual Word Embeddings](#context_word_embs_aug)\n",
        "    * [Synonym](#synonym_aug)\n",
        "    * [Antonym](#antonym_aug)\n",
        "    * [Random Word](#random_word_aug)\n",
        "    * [Split](#split_aug)\n",
        "    * [Back Translatoin](#back_translation_aug)\n",
        "    * [Reserved Word](#reserved_aug)\n",
        "* [Sentence Augmenter](#sent_aug)\n",
        "    * [Contextual Word Embeddings for Sentence](#context_word_embs_sentence_aug)\n",
        "    * [Abstractive Summarization](#abst_summ_aug)"
      ]
    },
    {
      "cell_type": "code",
      "metadata": {
        "colab": {
          "base_uri": "https://localhost:8080/"
        },
        "id": "qwZjHGT27J0l",
        "outputId": "321abce3-7075-459c-8a16-33b3602b1d66"
      },
      "source": [
        "!pip install numpy requests nlpaug\n",
        "!pip install torch>=1.6.0 transformers>=4.0.0 sentencepiece\n",
        "!pip install simpletransformers>=0.61.10\n",
        "\n",
        "\n"
      ],
      "execution_count": 1,
      "outputs": [
        {
          "output_type": "stream",
          "text": [
            "Requirement already satisfied: numpy in /usr/local/lib/python3.7/dist-packages (1.19.5)\n",
            "Requirement already satisfied: requests in /usr/local/lib/python3.7/dist-packages (2.23.0)\n",
            "Collecting nlpaug\n",
            "  Downloading nlpaug-1.1.7-py3-none-any.whl (405 kB)\n",
            "\u001b[K     |████████████████████████████████| 405 kB 7.9 MB/s \n",
            "\u001b[?25hRequirement already satisfied: chardet<4,>=3.0.2 in /usr/local/lib/python3.7/dist-packages (from requests) (3.0.4)\n",
            "Requirement already satisfied: idna<3,>=2.5 in /usr/local/lib/python3.7/dist-packages (from requests) (2.10)\n",
            "Requirement already satisfied: urllib3!=1.25.0,!=1.25.1,<1.26,>=1.21.1 in /usr/local/lib/python3.7/dist-packages (from requests) (1.24.3)\n",
            "Requirement already satisfied: certifi>=2017.4.17 in /usr/local/lib/python3.7/dist-packages (from requests) (2021.5.30)\n",
            "Installing collected packages: nlpaug\n",
            "Successfully installed nlpaug-1.1.7\n"
          ],
          "name": "stdout"
        }
      ]
    },
    {
      "cell_type": "code",
      "metadata": {
        "id": "syax78qb7aEj"
      },
      "source": [
        "from nlpaug.util.file.download import DownloadUtil\n",
        "DownloadUtil.download_word2vec(dest_dir='.') # Download word2vec model\n",
        "DownloadUtil.download_glove(model_name='glove.6B', dest_dir='.') # Download GloVe model\n",
        "DownloadUtil.download_fasttext(model_name='wiki-news-300d-1M', dest_dir='.') # Download fasttext model"
      ],
      "execution_count": null,
      "outputs": []
    },
    {
      "cell_type": "code",
      "metadata": {
        "id": "oo0uNpu16VfK"
      },
      "source": [
        "import os\n",
        "os.environ[\"MODEL_DIR\"] = '../model'"
      ],
      "execution_count": null,
      "outputs": []
    },
    {
      "cell_type": "markdown",
      "metadata": {
        "id": "p1hN9x4u6VfL"
      },
      "source": [
        "# Config"
      ]
    },
    {
      "cell_type": "code",
      "metadata": {
        "id": "NpRTnGvg6VfL"
      },
      "source": [
        "import nlpaug.augmenter.char as nac\n",
        "import nlpaug.augmenter.word as naw\n",
        "import nlpaug.augmenter.sentence as nas\n",
        "import nlpaug.flow as nafc\n",
        "\n",
        "from nlpaug.util import Action"
      ],
      "execution_count": null,
      "outputs": []
    },
    {
      "cell_type": "code",
      "metadata": {
        "id": "4yX8iEXB6VfM",
        "outputId": "555a2e48-88f4-4b30-e62d-cdb039ac8433"
      },
      "source": [
        "text = 'The quick brown fox jumps over the lazy dog .'\n",
        "print(text)"
      ],
      "execution_count": null,
      "outputs": [
        {
          "output_type": "stream",
          "text": [
            "The quick brown fox jumps over the lazy dog .\n"
          ],
          "name": "stdout"
        }
      ]
    },
    {
      "cell_type": "markdown",
      "metadata": {
        "id": "G98jLJI16VfN"
      },
      "source": [
        "# Character Augmenter<a class=\"anchor\" id=\"chara_aug\">\n",
        "\n",
        "Augmenting data in character level. Possible scenarios include image to text and chatbot. During recognizing text from image, we need to optical character recognition (OCR) model to achieve it but OCR introduces some errors such as recognizing \"o\" and \"0\". `OCRAug` simulate these errors to perform the data augmentation. For chatbot, we still have typo even though most of application comes with word correction. Therefore, `KeyboardAug` is introduced to simulate this kind of errors."
      ]
    },
    {
      "cell_type": "markdown",
      "metadata": {
        "id": "OXhTPMM66VfO"
      },
      "source": [
        "### OCR Augmenter<a class=\"anchor\" id=\"ocr_aug\"></a>"
      ]
    },
    {
      "cell_type": "markdown",
      "metadata": {
        "id": "-Th7lP8l6VfO"
      },
      "source": [
        "##### Substitute character by pre-defined OCR error"
      ]
    },
    {
      "cell_type": "code",
      "metadata": {
        "id": "oe6ymJlc6VfP",
        "outputId": "ce7c47c5-4397-4585-d0c9-812c02a58ff0"
      },
      "source": [
        "aug = nac.OcrAug()\n",
        "augmented_texts = aug.augment(text, n=3)\n",
        "print(\"Original:\")\n",
        "print(text)\n",
        "print(\"Augmented Texts:\")\n",
        "print(augmented_texts)"
      ],
      "execution_count": null,
      "outputs": [
        {
          "output_type": "stream",
          "text": [
            "Original:\n",
            "The quick brown fox jumps over the lazy dog .\n",
            "Augmented Texts:\n",
            "['The quick bkown fox jumps ovek the lazy dog .', 'The quick 6rown fox jumps ovek the lazy dog .', 'The quick brown f0x jomps over the la2y dog .']\n"
          ],
          "name": "stdout"
        }
      ]
    },
    {
      "cell_type": "markdown",
      "metadata": {
        "id": "RaMMc2yc6VfQ"
      },
      "source": [
        "### Keyboard Augmenter<a class=\"anchor\" id=\"keyboard_aug\"></a>"
      ]
    },
    {
      "cell_type": "markdown",
      "metadata": {
        "id": "QGmMgMJ86VfR"
      },
      "source": [
        "##### Substitute character by keyboard distance"
      ]
    },
    {
      "cell_type": "code",
      "metadata": {
        "id": "RzV2DS4M6VfR",
        "outputId": "21f8ac84-8430-443b-b4fb-d4338ee0ae79"
      },
      "source": [
        "aug = nac.KeyboardAug()\n",
        "augmented_text = aug.augment(text)\n",
        "print(\"Original:\")\n",
        "print(text)\n",
        "print(\"Augmented Text:\")\n",
        "print(augmented_text)"
      ],
      "execution_count": null,
      "outputs": [
        {
          "output_type": "stream",
          "text": [
            "Original:\n",
            "The quick brown fox jumps over the lazy dog .\n",
            "Augmented Text:\n",
            "The quick brown Gox juJps ocer the lazy dog .\n"
          ],
          "name": "stdout"
        }
      ]
    },
    {
      "cell_type": "markdown",
      "metadata": {
        "id": "7mEkXqED6VfR"
      },
      "source": [
        "### Random Augmenter<a class=\"anchor\" id=\"random_aug\"></a>"
      ]
    },
    {
      "cell_type": "markdown",
      "metadata": {
        "id": "Lct2hKmv6VfS"
      },
      "source": [
        "##### Insert character randomly"
      ]
    },
    {
      "cell_type": "code",
      "metadata": {
        "id": "mekPI-m66VfS",
        "outputId": "19640a93-c369-4c59-9101-e9318f13464a"
      },
      "source": [
        "aug = nac.RandomCharAug(action=\"insert\")\n",
        "augmented_text = aug.augment(text)\n",
        "print(\"Original:\")\n",
        "print(text)\n",
        "print(\"Augmented Text:\")\n",
        "print(augmented_text)"
      ],
      "execution_count": null,
      "outputs": [
        {
          "output_type": "stream",
          "text": [
            "Original:\n",
            "The quick brown fox jumps over the lazy dog\n",
            "Augmented Text:\n",
            "T3he quicNk @brown fEox juamps $over th6e la1zy d*og\n"
          ],
          "name": "stdout"
        }
      ]
    },
    {
      "cell_type": "markdown",
      "metadata": {
        "id": "WCGVXoqA6VfS"
      },
      "source": [
        "##### Substitute character randomly"
      ]
    },
    {
      "cell_type": "code",
      "metadata": {
        "id": "7s2R7oYM6VfS",
        "outputId": "cf15d8b2-d373-400e-ab10-d2cc1b087816"
      },
      "source": [
        "aug = nac.RandomCharAug(action=\"substitute\")\n",
        "augmented_text = aug.augment(text)\n",
        "print(\"Original:\")\n",
        "print(text)\n",
        "print(\"Augmented Text:\")\n",
        "print(augmented_text)"
      ],
      "execution_count": null,
      "outputs": [
        {
          "output_type": "stream",
          "text": [
            "Original:\n",
            "The quick brown fox jumps over the lazy dog\n",
            "Augmented Text:\n",
            "ThN qDick brow0 foB jumks oveE t+e laz6 dBg\n"
          ],
          "name": "stdout"
        }
      ]
    },
    {
      "cell_type": "markdown",
      "metadata": {
        "id": "ckS9QBe_6VfT"
      },
      "source": [
        "##### Swap character randomly"
      ]
    },
    {
      "cell_type": "code",
      "metadata": {
        "id": "f2DaCKMT6VfT",
        "outputId": "a5fc1c79-9b55-44ad-f366-77184a4b20f6"
      },
      "source": [
        "aug = nac.RandomCharAug(action=\"swap\")\n",
        "augmented_text = aug.augment(text)\n",
        "print(\"Original:\")\n",
        "print(text)\n",
        "print(\"Augmented Text:\")\n",
        "print(augmented_text)"
      ],
      "execution_count": null,
      "outputs": [
        {
          "output_type": "stream",
          "text": [
            "Original:\n",
            "The quick brown fox jumps over the lazy dog\n",
            "Augmented Text:\n",
            "Hte quikc borwn fxo jupms ovre teh lzay dgo\n"
          ],
          "name": "stdout"
        }
      ]
    },
    {
      "cell_type": "markdown",
      "metadata": {
        "id": "-ByYnKYd6VfT"
      },
      "source": [
        "##### Delete character randomly"
      ]
    },
    {
      "cell_type": "code",
      "metadata": {
        "id": "kdMdnXz56VfT",
        "outputId": "4cee238e-46ca-41b5-e789-76b01a8ed814"
      },
      "source": [
        "aug = nac.RandomCharAug(action=\"delete\")\n",
        "augmented_text = aug.augment(text)\n",
        "print(\"Original:\")\n",
        "print(text)\n",
        "print(\"Augmented Text:\")\n",
        "print(augmented_text)"
      ],
      "execution_count": null,
      "outputs": [
        {
          "output_type": "stream",
          "text": [
            "Original:\n",
            "The quick brown fox jumps over the lazy dog\n",
            "Augmented Text:\n",
            "Te quic rown fx jump ver he laz og\n"
          ],
          "name": "stdout"
        }
      ]
    },
    {
      "cell_type": "markdown",
      "metadata": {
        "id": "2_GE09Zp6VfT"
      },
      "source": [
        "# Word Augmenter<a class=\"anchor\" id=\"word_aug\"></a>\n",
        "\n",
        "Besides character augmentation, word level is important as well. We make use of word2vec (Mikolov et al., 2013), GloVe (Pennington et al., 2014), fasttext (Joulin et al., 2016), BERT(Devlin et al., 2018) and wordnet to insert and substitute similar word. `Word2vecAug`,  `GloVeAug` and `FasttextAug` use word embeddings to find most similar group of words to replace original word. On the other hand, `BertAug` use language models to predict possible target word. `WordNetAug` use statistics way to find the similar group of words."
      ]
    },
    {
      "cell_type": "markdown",
      "metadata": {
        "id": "iOx0Jkwq6VfU"
      },
      "source": [
        "### Spelling Augmenter<a class=\"anchor\" id=\"spelling_aug\"></a>"
      ]
    },
    {
      "cell_type": "markdown",
      "metadata": {
        "id": "Lk_nSmVM6VfU"
      },
      "source": [
        "##### Substitute word by spelling mistake words dictionary"
      ]
    },
    {
      "cell_type": "code",
      "metadata": {
        "id": "LALSR8Zd6VfU",
        "outputId": "2a813a84-5f77-46f0-afa3-b458f464cca1"
      },
      "source": [
        "aug = naw.SpellingAug()\n",
        "augmented_texts = aug.augment(text, n=3)\n",
        "print(\"Original:\")\n",
        "print(text)\n",
        "print(\"Augmented Texts:\")\n",
        "print(augmented_texts)"
      ],
      "execution_count": null,
      "outputs": [
        {
          "output_type": "stream",
          "text": [
            "Original:\n",
            "The quick brown fox jumps over the lazy dog .\n",
            "Augmented Texts:\n",
            "['Tha qchick brown fox jumps ower the lazy dog.', 'Their quick borwn fox jumps over tge lazy dog.', 'The qchick brown fox jumps ower the lazy dod.']\n"
          ],
          "name": "stdout"
        }
      ]
    },
    {
      "cell_type": "code",
      "metadata": {
        "id": "1hhfhxxw6VfU",
        "outputId": "43e667bd-b825-4d05-a1e2-5e6a98e4c1a8"
      },
      "source": [
        "aug = naw.SpellingAug()\n",
        "augmented_texts = aug.augment(text, n=3)\n",
        "print(\"Original:\")\n",
        "print(text)\n",
        "print(\"Augmented Texts:\")\n",
        "print(augmented_texts)"
      ],
      "execution_count": null,
      "outputs": [
        {
          "output_type": "stream",
          "text": [
            "Original:\n",
            "The quick brown fox jumps over the lazy dog .\n",
            "Augmented Texts:\n",
            "['They quick browb fox jumps over se lazy dog.', 'The quikly brown fox jumps over tge lazy dod.', 'Tha quick brown fox jumps ower their lazy dog.']\n"
          ],
          "name": "stdout"
        }
      ]
    },
    {
      "cell_type": "markdown",
      "metadata": {
        "id": "quDzb2y-6VfV"
      },
      "source": [
        "### Word Embeddings Augmenter<a class=\"anchor\" id=\"word_embs_aug\"></a>"
      ]
    },
    {
      "cell_type": "markdown",
      "metadata": {
        "id": "G0MpQXe_6VfV"
      },
      "source": [
        "##### Insert word randomly by word embeddings similarity"
      ]
    },
    {
      "cell_type": "code",
      "metadata": {
        "id": "gZkcN9Sd6VfV",
        "outputId": "459c16ab-688e-4e6c-e769-4ef5ae754e67"
      },
      "source": [
        "# model_type: word2vec, glove or fasttext\n",
        "aug = naw.WordEmbsAug(\n",
        "    model_type='word2vec', model_path=model_dir+'GoogleNews-vectors-negative300.bin',\n",
        "    action=\"insert\")\n",
        "augmented_text = aug.augment(text)\n",
        "print(\"Original:\")\n",
        "print(text)\n",
        "print(\"Augmented Text:\")\n",
        "print(augmented_text)"
      ],
      "execution_count": null,
      "outputs": [
        {
          "output_type": "stream",
          "text": [
            "Original:\n",
            "The quick brown fox jumps over the lazy dog\n",
            "Augmented Text:\n",
            "The quick brown fox jumps Alzeari over the lazy Superintendents dog\n"
          ],
          "name": "stdout"
        }
      ]
    },
    {
      "cell_type": "markdown",
      "metadata": {
        "id": "c4eINYOI6VfV"
      },
      "source": [
        "##### Substitute word by word2vec similarity"
      ]
    },
    {
      "cell_type": "code",
      "metadata": {
        "id": "Xg2MYXJS6VfW",
        "outputId": "29ed46dd-945b-416b-864d-aa123e3dbab5"
      },
      "source": [
        "# model_type: word2vec, glove or fasttext\n",
        "aug = naw.WordEmbsAug(\n",
        "    model_type='word2vec', model_path=model_dir+'GoogleNews-vectors-negative300.bin',\n",
        "    action=\"substitute\")\n",
        "augmented_text = aug.augment(text)\n",
        "print(\"Original:\")\n",
        "print(text)\n",
        "print(\"Augmented Text:\")\n",
        "print(augmented_text)"
      ],
      "execution_count": null,
      "outputs": [
        {
          "output_type": "stream",
          "text": [
            "Original:\n",
            "The quick brown fox jumps over the lazy dog\n",
            "Augmented Text:\n",
            "The easy brown fox jumps around the lazy dog\n"
          ],
          "name": "stdout"
        }
      ]
    },
    {
      "cell_type": "markdown",
      "metadata": {
        "id": "wwb7wgvk6VfW"
      },
      "source": [
        "### TF-IDF Augmenter<a class=\"anchor\" id=\"tfidf_aug\"></a>"
      ]
    },
    {
      "cell_type": "markdown",
      "metadata": {
        "id": "K6fSkVSz6VfW"
      },
      "source": [
        "##### Insert word by TF-IDF similarity"
      ]
    },
    {
      "cell_type": "code",
      "metadata": {
        "id": "dbztCdPq6VfW",
        "outputId": "dca2e4cb-c1b3-401c-d0a4-ba60edef2346"
      },
      "source": [
        "aug = naw.TfIdfAug(\n",
        "    model_path=os.environ.get(\"MODEL_DIR\"),\n",
        "    action=\"insert\")\n",
        "augmented_text = aug.augment(text)\n",
        "print(\"Original:\")\n",
        "print(text)\n",
        "print(\"Augmented Text:\")\n",
        "print(augmented_text)"
      ],
      "execution_count": null,
      "outputs": [
        {
          "output_type": "stream",
          "text": [
            "Original:\n",
            "The quick brown fox jumps over the lazy dog\n",
            "Augmented Text:\n",
            "sinks The quick brown fox jumps over the lazy Sidney dog\n"
          ],
          "name": "stdout"
        }
      ]
    },
    {
      "cell_type": "markdown",
      "metadata": {
        "id": "7USCc0B06VfW"
      },
      "source": [
        "##### Substitute word by TF-IDF similarity"
      ]
    },
    {
      "cell_type": "code",
      "metadata": {
        "id": "dvIZj3gx6VfX",
        "outputId": "4e61352c-ff12-4f51-bf0a-6555ba7b186d"
      },
      "source": [
        "aug = naw.TfIdfAug(\n",
        "    model_path=os.environ.get(\"MODEL_DIR\"),\n",
        "    action=\"substitute\")\n",
        "augmented_text = aug.augment(text)\n",
        "print(\"Original:\")\n",
        "print(text)\n",
        "print(\"Augmented Text:\")\n",
        "print(augmented_text)"
      ],
      "execution_count": null,
      "outputs": [
        {
          "output_type": "stream",
          "text": [
            "Original:\n",
            "The quick brown fox jumps over the lazy dog\n",
            "Augmented Text:\n",
            "The quick brown fox Baked over the polygraphy dog\n"
          ],
          "name": "stdout"
        }
      ]
    },
    {
      "cell_type": "markdown",
      "metadata": {
        "id": "K6JfiaLX6VfX"
      },
      "source": [
        "### Contextual Word Embeddings Augmenter<a class=\"anchor\" id=\"context_word_embs_aug\"></a>"
      ]
    },
    {
      "cell_type": "markdown",
      "metadata": {
        "id": "oTEv63nH6VfX"
      },
      "source": [
        "##### Insert word by contextual word embeddings (BERT, DistilBERT, RoBERTA or XLNet)"
      ]
    },
    {
      "cell_type": "code",
      "metadata": {
        "id": "yPD4CU3e6VfX",
        "outputId": "74954b6b-f8c2-4ce4-ae98-b56ffacc0220"
      },
      "source": [
        "aug = naw.ContextualWordEmbsAug(\n",
        "    model_path='bert-base-uncased', action=\"insert\")\n",
        "augmented_text = aug.augment(text)\n",
        "print(\"Original:\")\n",
        "print(text)\n",
        "print(\"Augmented Text:\")\n",
        "print(augmented_text)"
      ],
      "execution_count": null,
      "outputs": [
        {
          "output_type": "stream",
          "text": [
            "Original:\n",
            "The quick brown fox jumps over the lazy dog\n",
            "Augmented Text:\n",
            "even the quick brown fox usually jumps over the lazy dog\n"
          ],
          "name": "stdout"
        }
      ]
    },
    {
      "cell_type": "markdown",
      "metadata": {
        "id": "olr2-vBu6VfX"
      },
      "source": [
        "##### Substitute word by contextual word embeddings (BERT, DistilBERT, RoBERTA or XLNet)"
      ]
    },
    {
      "cell_type": "code",
      "metadata": {
        "id": "wdMrqhCt6VfX",
        "outputId": "e1a98fc8-fdba-4f01-a080-e59701c47d31"
      },
      "source": [
        "aug = naw.ContextualWordEmbsAug(\n",
        "    model_path='bert-base-uncased', action=\"substitute\")\n",
        "augmented_text = aug.augment(text)\n",
        "print(\"Original:\")\n",
        "print(text)\n",
        "print(\"Augmented Text:\")\n",
        "print(augmented_text)"
      ],
      "execution_count": null,
      "outputs": [
        {
          "output_type": "stream",
          "text": [
            "Original:\n",
            "The quick brown fox jumps over the lazy dog\n",
            "Augmented Text:\n",
            "little quick brown fox jumps over the lazy dog\n"
          ],
          "name": "stdout"
        }
      ]
    },
    {
      "cell_type": "code",
      "metadata": {
        "id": "MB7djW8N6VfY",
        "outputId": "4407451e-cf1e-48a2-f084-f10ef0fe3314"
      },
      "source": [
        "aug = naw.ContextualWordEmbsAug(\n",
        "    model_path='distilbert-base-uncased', action=\"substitute\")\n",
        "augmented_text = aug.augment(text)\n",
        "print(\"Original:\")\n",
        "print(text)\n",
        "print(\"Augmented Text:\")\n",
        "print(augmented_text)"
      ],
      "execution_count": null,
      "outputs": [
        {
          "output_type": "stream",
          "text": [
            "Original:\n",
            "The quick brown fox jumps over the lazy dog .\n",
            "Augmented Text:\n",
            "the striped brown fox jumps over the muddy grass .\n"
          ],
          "name": "stdout"
        }
      ]
    },
    {
      "cell_type": "code",
      "metadata": {
        "id": "XPFYYugh6VfY",
        "outputId": "76759be3-9d16-4404-b05a-a492cb9e41b9"
      },
      "source": [
        "aug = naw.ContextualWordEmbsAug(\n",
        "    model_path='roberta-base', action=\"substitute\")\n",
        "augmented_text = aug.augment(text)\n",
        "print(\"Original:\")\n",
        "print(text)\n",
        "print(\"Augmented Text:\")\n",
        "print(augmented_text)"
      ],
      "execution_count": null,
      "outputs": [
        {
          "output_type": "stream",
          "text": [
            "Original:\n",
            "The quick brown fox jumps over the lazy dog .\n",
            "Augmented Text:\n",
            "The quick brown fox jumps Into the bull dog .\n"
          ],
          "name": "stdout"
        }
      ]
    },
    {
      "cell_type": "markdown",
      "metadata": {
        "id": "hktxQ_6c6Vfb"
      },
      "source": [
        "# Sentence Augmentation"
      ]
    },
    {
      "cell_type": "markdown",
      "metadata": {
        "id": "9E3SZWBb6Vfb"
      },
      "source": [
        "### Contextual Word Embeddings for Sentence Augmenter<a class=\"anchor\" id=\"context_word_embs_sentence_aug\"></a>"
      ]
    },
    {
      "cell_type": "markdown",
      "metadata": {
        "id": "KtddUOyT6Vfb"
      },
      "source": [
        "##### Insert sentence by contextual word embeddings (GPT2 or XLNet)"
      ]
    },
    {
      "cell_type": "code",
      "metadata": {
        "id": "oAXqZCRh6Vfb",
        "outputId": "6c84e364-58f6-49f3-8bd8-7b0eecda15fd"
      },
      "source": [
        "# model_path: xlnet-base-cased or gpt2\n",
        "aug = nas.ContextualWordEmbsForSentenceAug(model_path='xlnet-base-cased')\n",
        "augmented_texts = aug.augment(text, n=3)\n",
        "print(\"Original:\")\n",
        "print(text)\n",
        "print(\"Augmented Texts:\")\n",
        "print(augmented_texts)"
      ],
      "execution_count": null,
      "outputs": [
        {
          "output_type": "stream",
          "text": [
            "Original:\n",
            "The quick brown fox jumps over the lazy dog .\n",
            "Augmented Texts:\n",
            "['The quick brown fox jumps over the lazy dog . A terrible , messy split second presents itself to the heart - which is we lose our heart.', 'The quick brown fox jumps over the lazy dog . Cast from the heart - the above flash is insight to the heart.', 'The quick brown fox jumps over the lazy dog . Give two mom s time to share some affection over this heart shaped version of Scott.']\n"
          ],
          "name": "stdout"
        }
      ]
    },
    {
      "cell_type": "code",
      "metadata": {
        "id": "49ilYKzv6Vfb",
        "outputId": "d062e387-f7f9-4822-a21a-7bf361176482"
      },
      "source": [
        "aug = nas.ContextualWordEmbsForSentenceAug(model_path='gpt2')\n",
        "augmented_text = aug.augment(text)\n",
        "print(\"Original:\")\n",
        "print(text)\n",
        "print(\"Augmented Text:\")\n",
        "print(augmented_text)"
      ],
      "execution_count": null,
      "outputs": [
        {
          "output_type": "stream",
          "text": [
            "Original:\n",
            "The quick brown fox jumps over the lazy dog .\n",
            "Augmented Text:\n",
            "The quick brown fox jumps over the lazy dog . J in a Better Balls of Fire cameo on St iring.\n"
          ],
          "name": "stdout"
        }
      ]
    },
    {
      "cell_type": "code",
      "metadata": {
        "scrolled": true,
        "id": "prk2uLqZ6Vfc",
        "outputId": "176b0aa9-75ee-4cb5-a2d8-994d5ce79393"
      },
      "source": [
        "aug = nas.ContextualWordEmbsForSentenceAug(model_path='gpt2')\n",
        "augmented_text = aug.augment(text)\n",
        "print(\"Original:\")\n",
        "print(text)\n",
        "print(\"Augmented Text:\")\n",
        "print(augmented_text)"
      ],
      "execution_count": null,
      "outputs": [
        {
          "output_type": "stream",
          "text": [
            "Original:\n",
            "The quick brown fox jumps over the lazy dog .\n",
            "Augmented Text:\n",
            "The quick brown fox jumps over the lazy dog . They start shooting wildly.\n"
          ],
          "name": "stdout"
        }
      ]
    },
    {
      "cell_type": "code",
      "metadata": {
        "id": "E8wsDiWE6Vfc",
        "outputId": "664130f0-f981-4f1a-a3df-85605cb686ed"
      },
      "source": [
        "aug = nas.ContextualWordEmbsForSentenceAug(model_path='distilgpt2')\n",
        "augmented_text = aug.augment(text)\n",
        "print(\"Original:\")\n",
        "print(text)\n",
        "print(\"Augmented Text:\")\n",
        "print(augmented_text)"
      ],
      "execution_count": null,
      "outputs": [
        {
          "output_type": "stream",
          "text": [
            "Original:\n",
            "The quick brown fox jumps over the lazy dog .\n",
            "Augmented Text:\n",
            "The quick brown fox jumps over the lazy dog . She keeps running around the house.\n"
          ],
          "name": "stdout"
        }
      ]
    },
    {
      "cell_type": "markdown",
      "metadata": {
        "id": "KFHlNZgj6Vfc"
      },
      "source": [
        "### Abstractive Summarization Augmenter<a class=\"anchor\" id=\"abst_summ_aug\"></a>"
      ]
    },
    {
      "cell_type": "code",
      "metadata": {
        "id": "V0whTg7x6Vfc",
        "outputId": "c210e9cc-4662-44e9-e368-8ef503148a19"
      },
      "source": [
        "article = \"\"\"\n",
        "The history of natural language processing (NLP) generally started in the 1950s, although work can be \n",
        "found from earlier periods. In 1950, Alan Turing published an article titled \"Computing Machinery and \n",
        "Intelligence\" which proposed what is now called the Turing test as a criterion of intelligence. \n",
        "The Georgetown experiment in 1954 involved fully automatic translation of more than sixty Russian \n",
        "sentences into English. The authors claimed that within three or five years, machine translation would\n",
        "be a solved problem. However, real progress was much slower, and after the ALPAC report in 1966, \n",
        "which found that ten-year-long research had failed to fulfill the expectations, funding for machine \n",
        "translation was dramatically reduced. Little further research in machine translation was conducted \n",
        "until the late 1980s when the first statistical machine translation systems were developed.\n",
        "\"\"\"\n",
        "\n",
        "aug = nas.AbstSummAug(model_path='t5-base', num_beam=3)\n",
        "augmented_text = aug.augment(article)\n",
        "print(\"Original:\")\n",
        "print(article)\n",
        "print(\"Augmented Text:\")\n",
        "print(augmented_text)"
      ],
      "execution_count": null,
      "outputs": [
        {
          "output_type": "stream",
          "text": [
            "Original:\n",
            "\n",
            "The history of natural language processing (NLP) generally started in the 1950s, although work can be \n",
            "found from earlier periods. In 1950, Alan Turing published an article titled \"Computing Machinery and \n",
            "Intelligence\" which proposed what is now called the Turing test as a criterion of intelligence. \n",
            "The Georgetown experiment in 1954 involved fully automatic translation of more than sixty Russian \n",
            "sentences into English. The authors claimed that within three or five years, machine translation would\n",
            "be a solved problem. However, real progress was much slower, and after the ALPAC report in 1966, \n",
            "which found that ten-year-long research had failed to fulfill the expectations, funding for machine \n",
            "translation was dramatically reduced. Little further research in machine translation was conducted \n",
            "until the late 1980s when the first statistical machine translation systems were developed.\n",
            "\n",
            "Augmented Text:\n",
            "the history of natural language processing (NLP) generally started in the 1950s. work can be found from earlier periods, such as the Georgetown experiment in 1954. little further research in machine translation was conducted until the late 1980s \n"
          ],
          "name": "stdout"
        }
      ]
    },
    {
      "cell_type": "code",
      "metadata": {
        "id": "C3jSGWRm6Vfc"
      },
      "source": [
        ""
      ],
      "execution_count": null,
      "outputs": []
    }
  ]
}